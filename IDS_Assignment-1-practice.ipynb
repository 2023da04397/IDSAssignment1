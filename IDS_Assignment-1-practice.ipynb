{
 "cells": [
  {
   "cell_type": "markdown",
   "id": "9bda93ba",
   "metadata": {
    "id": "9bda93ba"
   },
   "source": [
    "# <center>        **Introduction to Data Science (S2-22_DSECLZG532)-ASSIGNMENT**</center>\n",
    "\n",
    "## Group No: IDS Group 40\n",
    "\n",
    "## Group Member Names:\n",
    "1.GADI SAI SURYA SRI HARSHA (2023da04172@wilp.bits-pilani.ac.in)\n",
    "2.SUKANYA HALDER (2023da04397@wilp.bits-pilani.ac.in)\n",
    "3.AAQIL AL HASSAN (2023da04101@wilp.bits-pilani.ac.in)\n",
    "4.DANWE ASHUTOSH HEMRAJ (2023da04478@wilp.bits-pilani.ac.in) "
   ]
  },
  {
   "cell_type": "markdown",
   "id": "f5d80c60",
   "metadata": {
    "id": "f5d80c60"
   },
   "source": [
    "# 1. Business Understanding\n",
    "\n",
    "Students are expected to identify an analytical problem of your choice. You have to detail the Business Understanding part of your problem under this heading which basically addresses the following questions.\n",
    "\n",
    "   1. What is the business problem that you are trying to solve?\n",
    "   2. What data do you need to answer the above problem?\n",
    "   3. What are the different sources of data?\n",
    "   4. What kind of analytics task are you performing?\n",
    "\n",
    "Score: 1 Mark in total (0.25 mark each)"
   ]
  },
  {
   "cell_type": "raw",
   "id": "3298e121",
   "metadata": {
    "id": "3298e121"
   },
   "source": [
    "##----------- Business Understanding -------------------\n",
    "1. We need to understand preference of users while purchasing a property based on various factors. We can understand the buying behaviors average Indians in Tier1 and Tier2 cities whether they want to purchase Under construction or ready to occupy properties, what sizes and bhks they prefer to purchase.\n",
    "\n",
    "2. We need data related to property sales containing multiple attributes such as builder, bhk, cost, location, size, size per sqft etc.\n",
    "\n",
    "3. Datasets from Kaggle website such as Housing Data for Metropolitan Cities in India, Makaan.com website data, etc.\n",
    "\n",
    "4. We will analyze real estate sales based on location, cost, size, bhk, builder, etc. to understand which factors affect the buyers while closing a sale\n",
    "\n",
    "----------##"
   ]
  },
  {
   "cell_type": "markdown",
   "id": "3cc8e0cb",
   "metadata": {
    "id": "3cc8e0cb"
   },
   "source": [
    "# 2. Data Acquisition\n",
    "\n",
    "For the problem identified , find an appropriate data set (Your data set must\n",
    "be unique with minimum **20 features and 10k rows**) from any public data source.\n",
    "\n",
    "---\n",
    "\n",
    "\n",
    "\n",
    "## 2.1 Download the data directly\n",
    "\n"
   ]
  },
  {
   "cell_type": "code",
   "execution_count": 1,
   "id": "4b51d895",
   "metadata": {
    "id": "4b51d895"
   },
   "outputs": [
    {
     "name": "stdout",
     "output_type": "stream",
     "text": [
      "Skipping, found downloaded files in \".\\residential-property-price-indian-cities-dataset\" (use force=True to force download)\n"
     ]
    },
    {
     "data": {
      "text/plain": [
       "['Makaan_Properties_Buy.csv']"
      ]
     },
     "execution_count": 1,
     "metadata": {},
     "output_type": "execute_result"
    }
   ],
   "source": [
    "import pandas as pd\n",
    "import os\n",
    "import opendatasets as od\n",
    "import numpy as np\n",
    "\n",
    "dataset = 'https://www.kaggle.com/datasets/manishmathias/residential-property-price-indian-cities-dataset/download?datasetVersionNumber=2'\n",
    "od.download(dataset)\n",
    "\n",
    "data_dir = './residential-property-price-indian-cities-dataset'\n",
    "os.listdir(data_dir)"
   ]
  },
  {
   "cell_type": "markdown",
   "id": "49530d0c",
   "metadata": {
    "id": "49530d0c"
   },
   "source": [
    "## 2.2 Code for converting the above downloaded data into a dataframe"
   ]
  },
  {
   "cell_type": "code",
   "execution_count": 2,
   "id": "c1f4c171",
   "metadata": {
    "id": "c1f4c171"
   },
   "outputs": [],
   "source": [
    "df = pd.read_csv('residential-property-price-indian-cities-dataset/Makaan_Properties_Buy.csv',header=0,encoding='cp1252')"
   ]
  },
  {
   "cell_type": "markdown",
   "id": "7b1fea4d",
   "metadata": {
    "id": "7b1fea4d"
   },
   "source": [
    "## 2.3 Confirm the data has been correctly by displaying the first 5 and last 5 records."
   ]
  },
  {
   "cell_type": "code",
   "execution_count": 3,
   "id": "624e6c58",
   "metadata": {
    "id": "624e6c58"
   },
   "outputs": [
    {
     "name": "stdout",
     "output_type": "stream",
     "text": [
      "               Property_Name  Property_id Property_type     Property_status  \\\n",
      "0               Arkiton Luxe     15446514     Apartment  Under Construction   \n",
      "1  Keshav Akshar Ocean Pearl     15367414     Apartment  Under Construction   \n",
      "2            Vishwa Opulence     14683118     Apartment       Ready to move   \n",
      "3              Satyam Sarjan      5476295     Apartment       Ready to move   \n",
      "4           Navkar Sunflower     15477040     Apartment  Under Construction   \n",
      "\n",
      "  Price_per_unit_area   Posted_On  \\\n",
      "0               4,285   1 day ago   \n",
      "1               7,000  2 days ago   \n",
      "2               5,752  2 days ago   \n",
      "3               2,486  5 days ago   \n",
      "4               5,324  8 days ago   \n",
      "\n",
      "                                         Project_URL   builder_id  \\\n",
      "0  https://www.makaan.com/ahmedabad/arkiton-life-...  100563465.0   \n",
      "1  https://www.makaan.com/ahmedabad/keshav-naraya...  100009433.0   \n",
      "2  https://www.makaan.com/ahmedabad/vishwa-develo...  100207731.0   \n",
      "3  https://www.makaan.com/ahmedabad/satyam-develo...     101303.0   \n",
      "4  https://www.makaan.com/ahmedabad/navkar-buildc...    1484209.0   \n",
      "\n",
      "                  Builder_name Property_building_status  ...  is_furnished  \\\n",
      "0           Arkiton life Space                   ACTIVE  ...   Unfurnished   \n",
      "1         Keshav Narayan Group                   ACTIVE  ...   Unfurnished   \n",
      "2  Vishwa Developers Ahmedabad                   ACTIVE  ...   Unfurnished   \n",
      "3            Satyam Developers                   ACTIVE  ...   Unfurnished   \n",
      "4    Navkar Buildcon Ahmedabad                   ACTIVE  ...   Unfurnished   \n",
      "\n",
      "  listing_domain_score is_plot  is_RERA_registered is_Apartment  \\\n",
      "0                  4.0   False                True         True   \n",
      "1                  4.0   False                True         True   \n",
      "2                  4.0   False               False         True   \n",
      "3                  4.0   False               False         True   \n",
      "4                  4.0   False                True         True   \n",
      "\n",
      "   is_ready_to_move  is_commercial_Listing is_PentaHouse is_studio  \\\n",
      "0             False                  False         False     False   \n",
      "1             False                  False         False     False   \n",
      "2              True                  False         False     False   \n",
      "3              True                  False         False     False   \n",
      "4             False                  False         False     False   \n",
      "\n",
      "   Listing_Category  \n",
      "0              sell  \n",
      "1              sell  \n",
      "2              sell  \n",
      "3              sell  \n",
      "4              sell  \n",
      "\n",
      "[5 rows x 32 columns]\n",
      "                    Property_Name  Property_id Property_type  \\\n",
      "332091  Rajlaxmi RaajLaxmi Towers     10324765     Apartment   \n",
      "332092  Rajlaxmi RaajLaxmi Towers     15076701     Apartment   \n",
      "332093  Rajlaxmi RaajLaxmi Towers     10324762     Apartment   \n",
      "332094  Rajlaxmi RaajLaxmi Towers     15076700     Apartment   \n",
      "332095  Rajlaxmi RaajLaxmi Towers     14683740     Apartment   \n",
      "\n",
      "           Property_status Price_per_unit_area     Posted_On  \\\n",
      "332091  Under Construction               9,826  4 months ago   \n",
      "332092  Under Construction               8,568  4 months ago   \n",
      "332093  Under Construction               9,861  4 months ago   \n",
      "332094  Under Construction               8,813  4 months ago   \n",
      "332095  Under Construction               9,859  4 months ago   \n",
      "\n",
      "                                              Project_URL  builder_id  \\\n",
      "332091  https://www.makaan.com/mumbai/rajlaxmi-develop...    561277.0   \n",
      "332092  https://www.makaan.com/mumbai/rajlaxmi-develop...    561277.0   \n",
      "332093  https://www.makaan.com/mumbai/rajlaxmi-develop...    561277.0   \n",
      "332094  https://www.makaan.com/mumbai/rajlaxmi-develop...    561277.0   \n",
      "332095  https://www.makaan.com/mumbai/rajlaxmi-develop...    561277.0   \n",
      "\n",
      "                      Builder_name Property_building_status  ...  \\\n",
      "332091  Rajlaxmi Developers Mumbai                   ACTIVE  ...   \n",
      "332092  Rajlaxmi Developers Mumbai                   ACTIVE  ...   \n",
      "332093  Rajlaxmi Developers Mumbai                   ACTIVE  ...   \n",
      "332094  Rajlaxmi Developers Mumbai                   ACTIVE  ...   \n",
      "332095  Rajlaxmi Developers Mumbai                   ACTIVE  ...   \n",
      "\n",
      "        is_furnished listing_domain_score is_plot  is_RERA_registered  \\\n",
      "332091   Unfurnished                  4.0   False                True   \n",
      "332092   Unfurnished                  4.0   False                True   \n",
      "332093   Unfurnished                  4.0   False                True   \n",
      "332094   Unfurnished                  4.0   False                True   \n",
      "332095   Unfurnished                  4.0   False                True   \n",
      "\n",
      "       is_Apartment  is_ready_to_move  is_commercial_Listing is_PentaHouse  \\\n",
      "332091         True             False                  False         False   \n",
      "332092         True             False                  False         False   \n",
      "332093         True             False                  False         False   \n",
      "332094         True             False                  False         False   \n",
      "332095         True             False                  False         False   \n",
      "\n",
      "       is_studio  Listing_Category  \n",
      "332091     False              sell  \n",
      "332092     False              sell  \n",
      "332093     False              sell  \n",
      "332094     False              sell  \n",
      "332095     False              sell  \n",
      "\n",
      "[5 rows x 32 columns]\n"
     ]
    }
   ],
   "source": [
    "##---------display first 5 records from dataset------------------##\n",
    "first_five_rows = df.head(5)\n",
    "print(first_five_rows)\n",
    "\n",
    "last_five_rows = df.tail(5)\n",
    "print(last_five_rows)"
   ]
  },
  {
   "cell_type": "markdown",
   "id": "bb84fc56",
   "metadata": {
    "id": "bb84fc56"
   },
   "source": [
    "## 2.4 Display the column headings, statistical information, description and statistical summary of the data."
   ]
  },
  {
   "cell_type": "code",
   "execution_count": 21,
   "id": "086ad28e",
   "metadata": {
    "id": "086ad28e"
   },
   "outputs": [
    {
     "name": "stdout",
     "output_type": "stream",
     "text": [
      "['Property_Name', 'Property_id', 'Property_type', 'Property_status', 'Price_per_unit_area', 'Posted_On', 'Project_URL', 'builder_id', 'Builder_name', 'Property_building_status', 'City_id', 'City_name', 'No_of_BHK', 'Locality_ID', 'Locality_Name', 'Longitude', 'Latitude', 'Price', 'Size', 'Sub_urban_ID', 'Sub_urban_name', 'description', 'is_furnished', 'listing_domain_score', 'is_plot', 'is_RERA_registered', 'is_Apartment', 'is_ready_to_move', 'is_commercial_Listing', 'is_PentaHouse', 'is_studio', 'Listing_Category']\n",
      "<class 'pandas.core.frame.DataFrame'>\n",
      "RangeIndex: 332096 entries, 0 to 332095\n",
      "Data columns (total 32 columns):\n",
      " #   Column                    Non-Null Count   Dtype  \n",
      "---  ------                    --------------   -----  \n",
      " 0   Property_Name             217826 non-null  object \n",
      " 1   Property_id               332096 non-null  int64  \n",
      " 2   Property_type             332096 non-null  object \n",
      " 3   Property_status           271654 non-null  object \n",
      " 4   Price_per_unit_area       332096 non-null  object \n",
      " 5   Posted_On                 332096 non-null  object \n",
      " 6   Project_URL               332096 non-null  object \n",
      " 7   builder_id                149978 non-null  float64\n",
      " 8   Builder_name              149978 non-null  object \n",
      " 9   Property_building_status  332096 non-null  object \n",
      " 10  City_id                   332096 non-null  int64  \n",
      " 11  City_name                 332096 non-null  object \n",
      " 12  No_of_BHK                 332096 non-null  object \n",
      " 13  Locality_ID               332096 non-null  int64  \n",
      " 14  Locality_Name             332094 non-null  object \n",
      " 15  Longitude                 332096 non-null  float64\n",
      " 16  Latitude                  332096 non-null  float64\n",
      " 17  Price                     332096 non-null  object \n",
      " 18  Size                      332096 non-null  object \n",
      " 19  Sub_urban_ID              332096 non-null  int64  \n",
      " 20  Sub_urban_name            332096 non-null  object \n",
      " 21  description               332095 non-null  object \n",
      " 22  is_furnished              332096 non-null  object \n",
      " 23  listing_domain_score      332096 non-null  float64\n",
      " 24  is_plot                   332096 non-null  bool   \n",
      " 25  is_RERA_registered        332096 non-null  bool   \n",
      " 26  is_Apartment              332096 non-null  bool   \n",
      " 27  is_ready_to_move          332096 non-null  bool   \n",
      " 28  is_commercial_Listing     332096 non-null  bool   \n",
      " 29  is_PentaHouse             332096 non-null  bool   \n",
      " 30  is_studio                 332096 non-null  bool   \n",
      " 31  Listing_Category          332096 non-null  object \n",
      "dtypes: bool(7), float64(4), int64(4), object(17)\n",
      "memory usage: 65.6+ MB\n",
      "None\n"
     ]
    }
   ],
   "source": [
    "##---------Column Headings------------------##\n",
    "print(df.columns.tolist())\n",
    "\n",
    "\n",
    "##---------Statistical Information------------------##\n",
    "df.shape\n",
    "\n",
    "##---------Data Description------------------##\n",
    "summary = df.info()\n",
    "print(summary)"
   ]
  },
  {
   "cell_type": "markdown",
   "id": "812edb18",
   "metadata": {
    "id": "812edb18"
   },
   "source": [
    "## 2.5 Write your observations from the above.\n",
    "1. Size of the dataset\n",
    "2. What type of data attributes are there?\n",
    "3. Is there any null data that has to be cleaned?\n",
    "\n",
    "Score: 2 Marks in total (0.25 marks for 2.1, 0.25 marks for 2.2, 0.5 marks for 2.3, 0.25 marks for 2.4, 0.75 marks for 2.5)"
   ]
  },
  {
   "cell_type": "raw",
   "id": "60d80d2f",
   "metadata": {
    "id": "60d80d2f"
   },
   "source": [
    "1. Size of the dataset - rows:332095 / cols:32 / size: 178 MB\n",
    "2. Type of data attributes - numeric, categorical, boolean\n",
    "3. No, null data is not present in the data"
   ]
  },
  {
   "cell_type": "markdown",
   "id": "102e0e36",
   "metadata": {
    "id": "102e0e36"
   },
   "source": [
    "# 3. Data Preparation"
   ]
  },
  {
   "cell_type": "raw",
   "id": "637cb469",
   "metadata": {
    "id": "637cb469"
   },
   "source": [
    "If input data is numerical or categorical, do 3.1, 3.2 and 3.4\n",
    "If input data is text, do 3.3 and 3.4"
   ]
  },
  {
   "cell_type": "markdown",
   "id": "2bcb953b",
   "metadata": {
    "id": "2bcb953b"
   },
   "source": [
    "## 3.1 Check for\n",
    "\n",
    "* duplicate data\n",
    "* missing data\n",
    "* data inconsistencies\n"
   ]
  },
  {
   "cell_type": "code",
   "execution_count": 89,
   "id": "5a5b960e",
   "metadata": {
    "id": "5a5b960e"
   },
   "outputs": [
    {
     "name": "stdout",
     "output_type": "stream",
     "text": [
      "############# Duplicate Rows #################\n",
      "Duplicate Rows -- Empty DataFrame\n",
      "Columns: [Property_Name, Property_id, Property_type, Property_status, Price_per_unit_area, Posted_On, Project_URL, builder_id, Builder_name, Property_building_status, City_id, City_name, No_of_BHK, Locality_ID, Locality_Name, Longitude, Latitude, Price, Size_sqft, Sub_urban_ID, Sub_urban_name, description, is_furnished, listing_domain_score, is_plot, is_RERA_registered, is_Apartment, is_ready_to_move, is_commercial_Listing, is_PentaHouse, is_studio, Listing_Category]\n",
      "Index: []\n",
      "\n",
      "[0 rows x 32 columns] \n",
      " \n",
      "\n",
      "############# Missing Values #################\n",
      "Missing Values if any --  True \n",
      "\n",
      "Missing Values Count Per Attribute: \n",
      " Property_Name               114270\n",
      "Property_id                      0\n",
      "Property_type                    0\n",
      "Property_status              60442\n",
      "Price_per_unit_area              0\n",
      "Posted_On                        0\n",
      "Project_URL                      0\n",
      "builder_id                  182118\n",
      "Builder_name                182118\n",
      "Property_building_status         0\n",
      "City_id                          0\n",
      "City_name                        0\n",
      "No_of_BHK                        0\n",
      "Locality_ID                      0\n",
      "Locality_Name                    2\n",
      "Longitude                        0\n",
      "Latitude                         0\n",
      "Price                            0\n",
      "Size_sqft                        0\n",
      "Sub_urban_ID                     0\n",
      "Sub_urban_name                   0\n",
      "description                      1\n",
      "is_furnished                     0\n",
      "listing_domain_score             0\n",
      "is_plot                          0\n",
      "is_RERA_registered               0\n",
      "is_Apartment                     0\n",
      "is_ready_to_move                 0\n",
      "is_commercial_Listing            0\n",
      "is_PentaHouse                    0\n",
      "is_studio                        0\n",
      "Listing_Category                 0\n",
      "dtype: int64 \n",
      "\n",
      "############# Data Inconsistencies #################\n",
      "['Property_Name', 'Property_id', 'Property_type', 'Property_status', 'Price_per_unit_area', 'Posted_On', 'Project_URL', 'builder_id', 'Builder_name', 'Property_building_status', 'City_id', 'City_name', 'No_of_BHK', 'Locality_ID', 'Locality_Name', 'Longitude', 'Latitude', 'Price', 'Size_sqft', 'Sub_urban_ID', 'Sub_urban_name', 'description', 'is_furnished', 'listing_domain_score', 'is_plot', 'is_RERA_registered', 'is_Apartment', 'is_ready_to_move', 'is_commercial_Listing', 'is_PentaHouse', 'is_studio', 'Listing_Category']\n",
      "<class 'pandas.core.frame.DataFrame'>\n",
      "RangeIndex: 332096 entries, 0 to 332095\n",
      "Data columns (total 32 columns):\n",
      " #   Column                    Non-Null Count   Dtype  \n",
      "---  ------                    --------------   -----  \n",
      " 0   Property_Name             217826 non-null  object \n",
      " 1   Property_id               332096 non-null  int64  \n",
      " 2   Property_type             332096 non-null  object \n",
      " 3   Property_status           271654 non-null  object \n",
      " 4   Price_per_unit_area       332096 non-null  float32\n",
      " 5   Posted_On                 332096 non-null  object \n",
      " 6   Project_URL               332096 non-null  object \n",
      " 7   builder_id                149978 non-null  float64\n",
      " 8   Builder_name              149978 non-null  object \n",
      " 9   Property_building_status  332096 non-null  object \n",
      " 10  City_id                   332096 non-null  int64  \n",
      " 11  City_name                 332096 non-null  object \n",
      " 12  No_of_BHK                 332096 non-null  float32\n",
      " 13  Locality_ID               332096 non-null  int64  \n",
      " 14  Locality_Name             332094 non-null  object \n",
      " 15  Longitude                 332096 non-null  float64\n",
      " 16  Latitude                  332096 non-null  float64\n",
      " 17  Price                     332096 non-null  float64\n",
      " 18  Size_sqft                 332096 non-null  float32\n",
      " 19  Sub_urban_ID              332096 non-null  int64  \n",
      " 20  Sub_urban_name            332096 non-null  object \n",
      " 21  description               332095 non-null  object \n",
      " 22  is_furnished              332096 non-null  object \n",
      " 23  listing_domain_score      332096 non-null  float64\n",
      " 24  is_plot                   332096 non-null  bool   \n",
      " 25  is_RERA_registered        332096 non-null  bool   \n",
      " 26  is_Apartment              332096 non-null  bool   \n",
      " 27  is_ready_to_move          332096 non-null  bool   \n",
      " 28  is_commercial_Listing     332096 non-null  bool   \n",
      " 29  is_PentaHouse             332096 non-null  bool   \n",
      " 30  is_studio                 332096 non-null  bool   \n",
      " 31  Listing_Category          332096 non-null  object \n",
      "dtypes: bool(7), float32(3), float64(5), int64(4), object(13)\n",
      "memory usage: 61.8+ MB\n",
      "None\n"
     ]
    }
   ],
   "source": [
    "print('############# Duplicate Rows #################')\n",
    "duplicate = df[df.duplicated()]\n",
    "print('Duplicate Rows --', duplicate,'\\n','\\n')\n",
    "\n",
    "\n",
    "print('############# Missing Values #################')\n",
    "print('Missing Values if any -- ',df.isna().values.any(),'\\n')\n",
    "print('Missing Values Count Per Attribute: \\n', df.isnull().sum(),'\\n')\n",
    "\n",
    "\n",
    "df[df.isnull().any(axis=1)]\n",
    "\n",
    "#df[df['Property_Name'].isna()]\n",
    "#df[df['Property_status'].isna()]\n",
    "#df[df['builder_id'].isna()]\n",
    "#df[df['Builder_name'].isna()]\n",
    "#df[df['Locality_Name'].isna()]\n",
    "#df[df['description'].isna()]\n",
    "\n",
    "print('############# Data Inconsistencies #################')\n",
    "# Price_per_unit_area should be float\n",
    "#df['Price_per_unit_area'] = df['Price_per_unit_area'].str.replace(',', '')\n",
    "#df[\"Price_per_unit_area\"] = pd.to_numeric(df[\"Price_per_unit_area\"], downcast=\"float\")\n",
    "\n",
    "# No_of_BHK should be numeric float\n",
    "############RECHECK###############\n",
    "#df['No_of_BHK'] = df['No_of_BHK'].str.replace('BHK', '')\n",
    "#df['No_of_BHK'] = df['No_of_BHK'].str.replace('RK', '')\n",
    "#df[\"No_of_BHK\"] = pd.to_numeric(df[\"No_of_BHK\"], downcast=\"float\")\n",
    "\n",
    "# Price should be float\n",
    "#df['Price'] = df['Price'].str.replace(',', '')\n",
    "#df[\"Price\"] = pd.to_numeric(df[\"Price\"], downcast=\"float\")\n",
    "\n",
    "# Size should be float\n",
    "#df['Size'] = df['Size'].str.replace('sq ft', '')\n",
    "#df['Size'] = df['Size'].str.replace(',', '')\n",
    "#df[\"Size\"] = pd.to_numeric(df[\"Size\"], downcast=\"float\")\n",
    "############RENAME SIZE COLUMN to SIZE_SQFT###############\n",
    "df = df.rename(columns={'Size': 'Size_sqft'})\n",
    "\n",
    "print(df.columns.tolist())\n",
    "summary = df.info()\n",
    "print(summary)"
   ]
  },
  {
   "cell_type": "markdown",
   "id": "06fdebf8",
   "metadata": {
    "id": "06fdebf8"
   },
   "source": [
    "## 3.2 Apply techiniques\n",
    "* to remove duplicate data\n",
    "* to impute or remove missing data\n",
    "* to remove data inconsistencies\n"
   ]
  },
  {
   "cell_type": "code",
   "execution_count": 6,
   "id": "dd3118eb",
   "metadata": {
    "id": "dd3118eb"
   },
   "outputs": [],
   "source": [
    "##---------Type the code below this line------------------##"
   ]
  },
  {
   "cell_type": "markdown",
   "id": "2139fedf",
   "metadata": {
    "id": "2139fedf"
   },
   "source": [
    "## 3.3 Encode categorical data"
   ]
  },
  {
   "cell_type": "code",
   "execution_count": 7,
   "id": "da6886fc",
   "metadata": {
    "id": "da6886fc"
   },
   "outputs": [],
   "source": [
    "##---------Type the code below this line------------------##"
   ]
  },
  {
   "cell_type": "code",
   "execution_count": 8,
   "id": "a3b2cdee",
   "metadata": {
    "id": "a3b2cdee"
   },
   "outputs": [],
   "source": [
    "##---------Type the code below this line------------------##"
   ]
  },
  {
   "cell_type": "markdown",
   "id": "e3cec4fc",
   "metadata": {
    "id": "e3cec4fc"
   },
   "source": [
    "## 3.4 Report\n",
    "\n",
    "Mention and justify the method adopted\n",
    "* to remove duplicate data, if present\n",
    "* to impute or remove missing data, if present\n",
    "* to remove data inconsistencies, if present\n",
    "\n",
    "OR for textdata\n",
    "* How many tokens after step 3?\n",
    "* how may tokens after stop words filtering?\n",
    "\n",
    "If the any of the above are not present, then also add in the report below.\n",
    "\n",
    "Score: 2 Marks (based on the dataset you have, the data prepreation you had to do and report typed, marks will be distributed between 3.1, 3.2, 3.3 and 3.4)"
   ]
  },
  {
   "cell_type": "code",
   "execution_count": 9,
   "id": "3ab84ce6",
   "metadata": {
    "id": "3ab84ce6"
   },
   "outputs": [],
   "source": [
    "##---------Type the code below this line------------------##"
   ]
  },
  {
   "cell_type": "code",
   "execution_count": 10,
   "id": "f0fea7e8",
   "metadata": {
    "id": "f0fea7e8"
   },
   "outputs": [],
   "source": [
    "##---------Type the code below this line------------------##"
   ]
  },
  {
   "cell_type": "markdown",
   "id": "793cd04b",
   "metadata": {
    "id": "793cd04b"
   },
   "source": [
    "## 3.5 Identify the target variables.\n",
    "\n",
    "* Separate the data from the target such that the dataset is in the form of (X,y) or (Features, Label)\n",
    "\n",
    "* Discretize / Encode the target variable or perform one-hot encoding on the target or any other as and if required.\n",
    "\n",
    "* Report the observations\n",
    "\n",
    "Score: 1 Mark"
   ]
  },
  {
   "cell_type": "code",
   "execution_count": 11,
   "id": "c9089b57",
   "metadata": {
    "id": "c9089b57"
   },
   "outputs": [],
   "source": [
    "##---------Type the code below this line------------------##"
   ]
  },
  {
   "cell_type": "markdown",
   "id": "3ae0b5d2",
   "metadata": {
    "id": "3ae0b5d2"
   },
   "source": [
    "# 4. Data Exploration using various plots\n",
    "\n"
   ]
  },
  {
   "cell_type": "markdown",
   "id": "186bf4d7",
   "metadata": {
    "id": "186bf4d7"
   },
   "source": [
    "## 4.1 Scatter plot of each quantitative attribute with the target.\n",
    "\n",
    "Score: 1 Mark"
   ]
  },
  {
   "cell_type": "code",
   "execution_count": 12,
   "id": "868d7b27",
   "metadata": {
    "id": "868d7b27"
   },
   "outputs": [],
   "source": [
    "##---------Type the code below this line------------------##"
   ]
  },
  {
   "cell_type": "markdown",
   "id": "575f9e37",
   "metadata": {
    "id": "575f9e37"
   },
   "source": [
    "## 4.2 EDA using visuals\n",
    "* Use (minimum) 2 plots (pair plot, heat map, correlation plot, regression plot...) to identify the optimal set of attributes that can be used for classification.\n",
    "* Name them, explain why you think they can be helpful in the task and perform the plot as well. Unless proper justification for the choice of plots given, no credit will be awarded.\n",
    "\n",
    "Score: 2 Marks"
   ]
  },
  {
   "cell_type": "code",
   "execution_count": 13,
   "id": "4d614311",
   "metadata": {
    "id": "4d614311"
   },
   "outputs": [],
   "source": [
    "##---------Type the code below this line------------------##"
   ]
  },
  {
   "cell_type": "markdown",
   "id": "bdbc82a1",
   "metadata": {
    "id": "bdbc82a1"
   },
   "source": [
    "# 5. Data Wrangling\n",
    "\n"
   ]
  },
  {
   "cell_type": "markdown",
   "id": "ca214eb3",
   "metadata": {
    "id": "ca214eb3"
   },
   "source": [
    "## 5.1 Univariate Filters\n",
    "\n",
    "#### Numerical and Categorical Data\n",
    "* Identify top 5 significant features by evaluating each feature independently with respect to the target/other variable by exploring\n",
    "1. Mutual Information (Information Gain)\n",
    "2. Gini index\n",
    "3. Gain Ratio\n",
    "4. Chi-Squared test\n",
    "5. Strenth of Association\n",
    "\n",
    "(From the above 5 you are required to use only any <b>two</b>)\n",
    "\n",
    "\n",
    "\n",
    "Score: 3 Marks"
   ]
  },
  {
   "cell_type": "code",
   "execution_count": 14,
   "id": "a85e9754",
   "metadata": {
    "id": "a85e9754"
   },
   "outputs": [],
   "source": [
    "##---------Type the code below this line------------------##"
   ]
  },
  {
   "cell_type": "markdown",
   "id": "38031f24",
   "metadata": {
    "id": "38031f24"
   },
   "source": [
    "## 5.2 Report observations\n",
    "\n",
    "Write your observations from the results of each method. Clearly justify your choice of the method.\n",
    "\n",
    "Score 1 mark"
   ]
  },
  {
   "cell_type": "code",
   "execution_count": 15,
   "id": "85c7a3a8",
   "metadata": {
    "id": "85c7a3a8"
   },
   "outputs": [],
   "source": [
    "##---------Type the code below this line------------------##"
   ]
  },
  {
   "cell_type": "markdown",
   "id": "06f1173c",
   "metadata": {
    "id": "06f1173c"
   },
   "source": [
    "# 6. Implement Machine Learning Techniques\n",
    "\n",
    "Use any 2 ML tasks\n",
    "1. Classification  \n",
    "\n",
    "2. Clustering  \n",
    "\n",
    "3. Association Analysis\n",
    "\n",
    "4. Anomaly detection\n",
    "\n",
    "You may use algorithms included in the course, e.g. Decision Tree, K-means etc. or an algorithm you learnt on your own with a brief explanation.\n",
    "A clear justification have to be given for why a certain algorithm was chosen to address your problem.\n",
    "\n",
    "Score: 4 Marks (2 marks each for each algorithm)"
   ]
  },
  {
   "cell_type": "markdown",
   "id": "040afed8",
   "metadata": {
    "id": "040afed8"
   },
   "source": [
    "## 6.1 ML technique 1 + Justification"
   ]
  },
  {
   "cell_type": "code",
   "execution_count": 16,
   "id": "7042235d",
   "metadata": {
    "id": "7042235d"
   },
   "outputs": [],
   "source": [
    "##---------Type the code below this line------------------##\n"
   ]
  },
  {
   "cell_type": "markdown",
   "id": "f610ca8c",
   "metadata": {
    "id": "f610ca8c"
   },
   "source": [
    "## 6.2 ML technique 2 + Justification"
   ]
  },
  {
   "cell_type": "code",
   "execution_count": 17,
   "id": "9b75e079",
   "metadata": {
    "id": "9b75e079"
   },
   "outputs": [],
   "source": [
    "##---------Type the code below this line------------------##"
   ]
  },
  {
   "cell_type": "markdown",
   "id": "eb57940c",
   "metadata": {
    "id": "eb57940c"
   },
   "source": [
    "## 7. Conclusion\n",
    "\n",
    "Compare the performance of the ML techniques used.\n",
    "\n",
    "Derive values for preformance study metrics like accuracy, precision, recall, F1 Score, AUC-ROC etc to compare the ML algos and plot them. A proper comparision based on different metrics should be done and not just accuracy alone, only then the comparision becomes authentic. You may use Confusion matrix, classification report, Word cloud etc as per the requirement of your application/problem.\n",
    "\n",
    "Score 1 Mark"
   ]
  },
  {
   "cell_type": "code",
   "execution_count": 18,
   "id": "9bf06eb1",
   "metadata": {
    "id": "9bf06eb1"
   },
   "outputs": [],
   "source": [
    "##---------Type the code below this line------------------##"
   ]
  },
  {
   "cell_type": "markdown",
   "id": "79ed0137",
   "metadata": {
    "id": "79ed0137"
   },
   "source": [
    "## 8. Solution\n",
    "\n",
    "What is the solution that is proposed to solve the business problem discussed in Section 1. Also share your learnings while working through solving the problem in terms of challenges, observations, decisions made etc.\n",
    "\n",
    "Score 2 Marks"
   ]
  },
  {
   "cell_type": "markdown",
   "id": "324448eb",
   "metadata": {
    "id": "324448eb"
   },
   "source": [
    "--------------Type the answers below this line--------------"
   ]
  },
  {
   "cell_type": "raw",
   "id": "68ab61d5",
   "metadata": {
    "id": "68ab61d5"
   },
   "source": [
    "##---------Type the answer below this line------------------##"
   ]
  },
  {
   "cell_type": "markdown",
   "id": "RcDDQlfbZQ7E",
   "metadata": {
    "id": "RcDDQlfbZQ7E"
   },
   "source": [
    "##NOTE\n",
    "All Late Submissions will incur a penalty of -2 marks. Do ensure on time submission to avoid penalty.\n",
    "\n",
    "Good Luck!!!"
   ]
  }
 ],
 "metadata": {
  "colab": {
   "provenance": []
  },
  "kernelspec": {
   "display_name": "Python 3 (ipykernel)",
   "language": "python",
   "name": "python3"
  },
  "language_info": {
   "codemirror_mode": {
    "name": "ipython",
    "version": 3
   },
   "file_extension": ".py",
   "mimetype": "text/x-python",
   "name": "python",
   "nbconvert_exporter": "python",
   "pygments_lexer": "ipython3",
   "version": "3.12.2"
  }
 },
 "nbformat": 4,
 "nbformat_minor": 5
}
